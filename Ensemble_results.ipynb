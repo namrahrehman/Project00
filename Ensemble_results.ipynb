{
  "nbformat": 4,
  "nbformat_minor": 0,
  "metadata": {
    "colab": {
      "provenance": [],
      "mount_file_id": "1U9oZU5FVVgrfh_QBLbK-0QXpcwoPOJMv",
      "authorship_tag": "ABX9TyMh3MbVX4QjRdNYUT+Z1x+P"
    },
    "kernelspec": {
      "name": "python3",
      "display_name": "Python 3"
    },
    "language_info": {
      "name": "python"
    }
  },
  "cells": [
    {
      "cell_type": "code",
      "source": [
        "!mkdir -p ~/.kaggle\n",
        "!cp kaggle.json ~/.kaggle/\n",
        "!chmod 600 ~/.kaggle/kaggle.json\n",
        "!kaggle datasets download -d jtiptj/chest-xray-pneumoniacovid19tuberculosis"
      ],
      "metadata": {
        "colab": {
          "base_uri": "https://localhost:8080/"
        },
        "id": "_oVin3HS6qQE",
        "outputId": "ea1a1597-1585-4d38-fe26-e0c450b8fcc5"
      },
      "execution_count": 1,
      "outputs": [
        {
          "output_type": "stream",
          "name": "stdout",
          "text": [
            "Downloading chest-xray-pneumoniacovid19tuberculosis.zip to /content\n",
            "100% 1.73G/1.74G [00:16<00:00, 73.1MB/s]\n",
            "100% 1.74G/1.74G [00:16<00:00, 115MB/s] \n"
          ]
        }
      ]
    },
    {
      "cell_type": "code",
      "source": [
        "import zipfile\n",
        "import os\n",
        "import os\n",
        "from tensorflow.keras.preprocessing.image import ImageDataGenerator\n",
        "from tensorflow.keras.models import load_model\n",
        "from tensorflow.keras.utils import to_categorical\n",
        "\n",
        "from sklearn.metrics import confusion_matrix\n",
        "import numpy as np\n",
        "import seaborn as sns\n",
        "import matplotlib.pyplot as plt"
      ],
      "metadata": {
        "id": "nsZynnOrJ3wx"
      },
      "execution_count": 16,
      "outputs": []
    },
    {
      "cell_type": "code",
      "source": [
        "# Replace 'your_dataset_directory.zip' with the actual zip file name\n",
        "zip_file_path = '/content/chest-xray-pneumoniacovid19tuberculosis.zip'\n",
        "extracted_folder_path = '/content/dataset/'\n",
        "\n",
        "# Extract the contents of the zip file\n",
        "with zipfile.ZipFile(zip_file_path, 'r') as zip_ref:\n",
        "    zip_ref.extractall(extracted_folder_path)"
      ],
      "metadata": {
        "id": "hWux06MsMgbb"
      },
      "execution_count": 2,
      "outputs": []
    },
    {
      "cell_type": "code",
      "source": [
        "# Define the path to the test directory\n",
        "test_dir = '/content/dataset/test/'\n",
        "\n",
        "# Use ImageDataGenerator to load and preprocess the test data\n",
        "test_datagen = ImageDataGenerator(rescale=1./255)  # You can add more preprocessing options if needed\n",
        "\n",
        "# Set batch size according to your needs\n",
        "batch_size = 32\n",
        "\n",
        "# Create a data generator for the test set\n",
        "test_generator = test_datagen.flow_from_directory(\n",
        "    test_dir,\n",
        "    target_size=(224,224),  # Replace with the size you used during training\n",
        "    batch_size=batch_size,\n",
        "    class_mode='categorical',  # Assuming you have multiple classes\n",
        "    shuffle=False  # Important: set shuffle to False to maintain the order of predictions\n",
        ")"
      ],
      "metadata": {
        "colab": {
          "base_uri": "https://localhost:8080/"
        },
        "id": "pXW5OVEf7pix",
        "outputId": "b13ce5de-e80a-421a-a897-61be498905d3"
      },
      "execution_count": 4,
      "outputs": [
        {
          "output_type": "stream",
          "name": "stdout",
          "text": [
            "Found 771 images belonging to 4 classes.\n"
          ]
        }
      ]
    },
    {
      "cell_type": "code",
      "source": [
        "num_classes = len(test_generator.class_indices)"
      ],
      "metadata": {
        "id": "S7TTKL3Z8Lx1"
      },
      "execution_count": 6,
      "outputs": []
    },
    {
      "cell_type": "code",
      "execution_count": 7,
      "metadata": {
        "id": "xkDGUd_X6nyz"
      },
      "outputs": [],
      "source": [
        "# Load the individual models\n",
        "resnet50_model = load_model('/content/drive/MyDrive/fine_tuned_resnet50.h5')\n",
        "vgg16_model = load_model('/content/drive/MyDrive/fine_tuned_vgg16.h5')\n",
        "inceptionv3_model = load_model('/content/drive/MyDrive/fine_tuned_inceptionv3.h5')"
      ]
    },
    {
      "cell_type": "code",
      "source": [
        "# Generate predictions from each model\n",
        "resnet50_preds = resnet50_model.predict(test_generator)\n",
        "vgg16_preds = vgg16_model.predict(test_generator)\n",
        "inceptionv3_preds = inceptionv3_model.predict(test_generator)\n",
        "\n",
        "# Combine predictions for the ensemble\n",
        "ensemble_preds = np.mean([resnet50_preds, vgg16_preds, inceptionv3_preds], axis=0)\n",
        "\n",
        "# Convert predictions to class labels\n",
        "ensemble_preds_labels = np.argmax(ensemble_preds, axis=1)\n",
        "y_true_labels = test_generator.classes\n",
        "\n",
        "# Create a confusion matrix for the ensemble\n",
        "conf_matrix_ensemble = confusion_matrix(y_true_labels, ensemble_preds_labels)"
      ],
      "metadata": {
        "colab": {
          "base_uri": "https://localhost:8080/"
        },
        "id": "t-Luk6-38UiH",
        "outputId": "82b2413d-3333-467f-ad55-8e2e264dc3a5"
      },
      "execution_count": 12,
      "outputs": [
        {
          "output_type": "stream",
          "name": "stdout",
          "text": [
            "25/25 [==============================] - 169s 7s/step\n",
            "25/25 [==============================] - 438s 17s/step\n",
            "25/25 [==============================] - 91s 4s/step\n",
            "Confusion Matrix - Ensemble Model:\n",
            "[[104   1   1   0]\n",
            " [  0 193  41   0]\n",
            " [  0   6 384   0]\n",
            " [  0   0   0  41]]\n"
          ]
        }
      ]
    },
    {
      "cell_type": "code",
      "source": [
        "# Plot the heatmap\n",
        "plt.figure(figsize=(8, 6))\n",
        "sns.heatmap(conf_matrix_ensemble, annot=True, fmt='d', cmap='Blues', xticklabels=test_generator.class_indices, yticklabels=test_generator.class_indices)\n",
        "plt.title('Confusion Matrix')\n",
        "plt.xlabel('Predicted')\n",
        "plt.ylabel('True')\n",
        "plt.show()\n",
        "\n",
        "# Print classification report\n",
        "print(\"\\nClassification Report:\")\n",
        "print(classification_report(y_true_labels, ensemble_preds_labels))"
      ],
      "metadata": {
        "colab": {
          "base_uri": "https://localhost:8080/",
          "height": 790
        },
        "id": "bDN5RFmDJlTn",
        "outputId": "a8847d90-dde4-4707-bd35-7bf45d476536"
      },
      "execution_count": 18,
      "outputs": [
        {
          "output_type": "display_data",
          "data": {
            "text/plain": [
              "<Figure size 800x600 with 2 Axes>"
            ],
            "image/png": "[encoded data removed]"
          },
          "metadata": {}
        },
        {
          "output_type": "stream",
          "name": "stdout",
          "text": [
            "\n",
            "Classification Report:\n",
            "              precision    recall  f1-score   support\n",
            "\n",
            "           0       1.00      0.98      0.99       106\n",
            "           1       0.96      0.82      0.89       234\n",
            "           2       0.90      0.98      0.94       390\n",
            "           3       1.00      1.00      1.00        41\n",
            "\n",
            "    accuracy                           0.94       771\n",
            "   macro avg       0.97      0.95      0.96       771\n",
            "weighted avg       0.94      0.94      0.94       771\n",
            "\n"
          ]
        }
      ]
    }
  ]
}